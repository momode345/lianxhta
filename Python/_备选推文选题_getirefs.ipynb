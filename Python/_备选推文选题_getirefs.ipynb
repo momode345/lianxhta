{
 "cells": [
  {
   "cell_type": "markdown",
   "id": "ef524a33",
   "metadata": {},
   "source": [
    "# 获取参考文献\n",
    "\n"
   ]
  },
  {
   "cell_type": "code",
   "execution_count": 5,
   "id": "3295f871",
   "metadata": {},
   "outputs": [
    {
     "name": "stdout",
     "output_type": "stream",
     "text": [
      "D:\\Github\\lianxhta\\Python\\refs\n"
     ]
    }
   ],
   "source": [
    "* 路径设定\n",
    "\n",
    "global path_PDF \"D:\\Github\\lianxhta\\Python\\refs\"\n",
    "\n",
    "cd $path_PDF\n",
    "\n"
   ]
  },
  {
   "cell_type": "code",
   "execution_count": 2,
   "id": "36a7d1b1",
   "metadata": {},
   "outputs": [
    {
     "name": "stdout",
     "output_type": "stream",
     "text": [
      "  \n",
      "Sun, Z., & Wüthrich, K. (2025). Pairwise valid instruments. Journal of Economet\n",
      "> rics, 250, 106009.\n",
      "    Link    PDF    Google    \n",
      "\n",
      "Sun, Z., & Wüthrich, K. (2025). Pairwise valid instruments. Journal of Economet\n",
      "> rics, 250, 106009. [Link](https://doi.org/10.1016/j.jeconom.2025.106009), [PD\n",
      "> F](http://sci-hub.ren/10.1016/j.jeconom.2025.106009), [Google](<https://schol\n",
      "> ar.google.com/scholar?q=Pairwise valid instruments>).\n",
      " \n",
      "Tips: Text is on clipboard. Press 'Ctrl+V' to paste, ^-^\n",
      " \n",
      "Sun_2025_Pairwise_valid_instruments\n"
     ]
    }
   ],
   "source": [
    "local doi 10.1016/j.jeconom.2025.106009\n",
    "getiref `doi' , m dis"
   ]
  },
  {
   "cell_type": "markdown",
   "id": "ee85c84d",
   "metadata": {},
   "source": [
    "Sun, Z., & Wüthrich, K. (2025). Pairwise valid instruments. Journal of Econometrics, 250, 106009. [Link](https://doi.org/10.1016/j.jeconom.2025.106009), [PDF](http://sci-hub.ren/10.1016/j.jeconom.2025.106009), [Google](<https://scholar.google.com/scholar?q=Pairwise valid instruments>)."
   ]
  },
  {
   "cell_type": "code",
   "execution_count": 2,
   "id": "02b8389f",
   "metadata": {},
   "outputs": [
    {
     "name": "stdout",
     "output_type": "stream",
     "text": [
      "  \n",
      "Yao, M., Wang, A., Li, X., & Liu, Z. (2025). Mendelian Randomization Methods fo\n",
      "> r Causal Inference: Estimands, Identification and Inference (Version 1). arXi\n",
      "> v.\n",
      "    Link (rep)    PDF    Google    \n",
      "\n",
      "Yao, M., Wang, A., Li, X., & Liu, Z. (2025). Mendelian Randomization Methods fo\n",
      "> r Causal Inference: Estimands, Identification and Inference (Version 1). arXi\n",
      "> v. [Link](https://doi.org/10.48550/arXiv.2509.11519) (rep), [PDF](https://arx\n",
      "> iv.org/pdf/2509.11519.pdf), [Google](<https://scholar.google.com/scholar?q=Me\n",
      "> ndelian Randomization Methods for Causal Inference: Estimands, Identification\n",
      ">  and Inference (Version 1)>).\n",
      "        PDF:   dir    view_online     Open\n",
      " \n",
      "Tips: Text is on clipboard. Press 'Ctrl+V' to paste, ^-^\n"
     ]
    }
   ],
   "source": [
    "getiref    2509.11519     , m ar pdf"
   ]
  },
  {
   "cell_type": "markdown",
   "id": "e3dc9225",
   "metadata": {},
   "source": [
    "Yao, M., Wang, A., Li, X., & Liu, Z. (2025). Mendelian Randomization Methods for Causal Inference: Estimands, Identification and Inference (Version 1). arXiv. [Link](https://doi.org/10.48550/arXiv.2509.11519) (rep), [PDF](https://arxiv.org/pdf/2509.11519.pdf), [Google](<https://scholar.google.com/scholar?q=Mendelian Randomization Methods for Causal Inference: Estimands, Identification and Inference (Version 1)>)."
   ]
  },
  {
   "cell_type": "markdown",
   "id": "28a7835a",
   "metadata": {},
   "source": [
    "MR - IV 估计方法"
   ]
  },
  {
   "cell_type": "code",
   "execution_count": 4,
   "id": "fa0e2052",
   "metadata": {},
   "outputs": [
    {
     "name": "stdout",
     "output_type": "stream",
     "text": [
      "  \n",
      "Sanderson, E., Glymour, M. M., Holmes, M. V., Kang, H., Morrison, J., Munafò, M\n",
      "> . R., Palmer, T., Schooling, C. M., Wallace, C., Zhao, Q., & Davey Smith, G. \n",
      "> (2022). Mendelian randomization. Nature Reviews Methods Primers, 2(1).\n",
      "    Link    PDF    Google    \n",
      "\n",
      "Sanderson, E., Glymour, M. M., Holmes, M. V., Kang, H., Morrison, J., Munafò, M\n",
      "> . R., Palmer, T., Schooling, C. M., Wallace, C., Zhao, Q., & Davey Smith, G. \n",
      "> (2022). Mendelian randomization. Nature Reviews Methods Primers, 2(1). [Link]\n",
      "> (https://doi.org/10.1038/s43586-021-00092-5), [PDF](http://sci-hub.ren/10.103\n",
      "> 8/s43586-021-00092-5), [Google](<https://scholar.google.com/scholar?q=Mendeli\n",
      "> an randomization>).\n",
      " \n",
      "Tips: Text is on clipboard. Press 'Ctrl+V' to paste, ^-^\n",
      " \n",
      "Sanderson_2022_Mendelian_randomization\n"
     ]
    }
   ],
   "source": [
    "getiref       10.1038/s43586-021-00092-5  , m dis\n"
   ]
  },
  {
   "cell_type": "code",
   "execution_count": 6,
   "id": "fdd5e2a9",
   "metadata": {},
   "outputs": [
    {
     "name": "stdout",
     "output_type": "stream",
     "text": [
      "  \n",
      "Du, Y., Wang, X., Guo, N., Yu, Z., Qian, Y., Zhang, K., Hsieh, M.-H., Rebentros\n",
      "> t, P., & Tao, D. (2025). Quantum Machine Learning: A Hands-on Tutorial for Ma\n",
      "> chine Learning Practitioners and Researchers (Version 1). arXiv.\n",
      "    Link (rep)    PDF    Google    \n",
      "\n",
      "Du, Y., Wang, X., Guo, N., Yu, Z., Qian, Y., Zhang, K., Hsieh, M.-H., Rebentros\n",
      "> t, P., & Tao, D. (2025). Quantum Machine Learning: A Hands-on Tutorial for Ma\n",
      "> chine Learning Practitioners and Researchers (Version 1). arXiv. [Link](https\n",
      "> ://doi.org/10.48550/arXiv.2502.01146) (rep), [PDF](https://arxiv.org/pdf/2502\n",
      "> .01146.pdf), [Google](<https://scholar.google.com/scholar?q=Quantum Machine L\n",
      "> earning: A Hands-on Tutorial for Machine Learning Practitioners and Researche\n",
      "> rs (Version 1)>).\n",
      "        PDF:   dir    view_online     Open\n",
      " \n",
      "Tips: Text is on clipboard. Press 'Ctrl+V' to paste, ^-^\n"
     ]
    }
   ],
   "source": [
    "getiref 2502.01146  , m ar pdf"
   ]
  },
  {
   "cell_type": "markdown",
   "id": "7a3644e3",
   "metadata": {},
   "source": [
    "## AI and Finance"
   ]
  },
  {
   "cell_type": "code",
   "execution_count": 8,
   "id": "9800322b",
   "metadata": {},
   "outputs": [
    {
     "name": "stdout",
     "output_type": "stream",
     "text": [
      "  \n",
      "Eisfeldt, A. L., & Schubert, G. (2025). Generative AI and Finance. Annual Revie\n",
      "> w of Financial Economics.\n",
      "    Link    PDF    Google    \n",
      "\n",
      "Eisfeldt, A. L., & Schubert, G. (2025). Generative AI and Finance. Annual Revie\n",
      "> w of Financial Economics. [Link](https://doi.org/10.1146/annurev-financial-11\n",
      "> 2923-020503), [PDF](http://sci-hub.ren/10.1146/annurev-financial-112923-02050\n",
      "> 3), [Google](<https://scholar.google.com/scholar?q=Generative AI and Finance>\n",
      "> ).\n",
      " \n",
      "Tips: Text is on clipboard. Press 'Ctrl+V' to paste, ^-^\n"
     ]
    }
   ],
   "source": [
    "getiref 10.1146/annurev-financial-112923-020503 , m"
   ]
  },
  {
   "cell_type": "code",
   "execution_count": 12,
   "id": "2a22503c",
   "metadata": {},
   "outputs": [
    {
     "name": "stdout",
     "output_type": "stream",
     "text": [
      "  \n",
      "Battaglia, L., Christensen, T., Hansen, S., & Sacher, S. (2024). Inference for \n",
      "> Regression with Variables Generated by AI or Machine Learning (Version 5). ar\n",
      "> Xiv.\n",
      "    Link (rep)    PDF    Google    \n",
      "\n",
      "Battaglia, L., Christensen, T., Hansen, S., & Sacher, S. (2024). Inference for \n",
      "> Regression with Variables Generated by AI or Machine Learning (Version 5). ar\n",
      "> Xiv. [Link](https://doi.org/10.48550/arXiv.2402.15585) (rep), [PDF](https://a\n",
      "> rxiv.org/pdf/2402.15585.pdf), [Google](<https://scholar.google.com/scholar?q=\n",
      "> Inference for Regression with Variables Generated by AI or Machine Learning (\n",
      "> Version 5)>).\n",
      "        PDF:   dir    view_online     Open\n",
      " \n",
      "Tips: Text is on clipboard. Press 'Ctrl+V' to paste, ^-^\n"
     ]
    }
   ],
   "source": [
    "getiref 2402.15585 , m pdf ar"
   ]
  },
  {
   "cell_type": "code",
   "execution_count": null,
   "id": "adeaf55b",
   "metadata": {},
   "outputs": [],
   "source": [
    "getiref  , m pdf"
   ]
  },
  {
   "cell_type": "code",
   "execution_count": null,
   "id": "5b3233c8",
   "metadata": {},
   "outputs": [],
   "source": [
    "getiref  , m pdf"
   ]
  },
  {
   "cell_type": "code",
   "execution_count": null,
   "id": "71b5dcd0",
   "metadata": {},
   "outputs": [],
   "source": [
    "getiref  , m pdf"
   ]
  },
  {
   "cell_type": "code",
   "execution_count": null,
   "id": "a7ba801d",
   "metadata": {},
   "outputs": [],
   "source": [
    "getiref  , m pdf"
   ]
  },
  {
   "cell_type": "code",
   "execution_count": null,
   "id": "32585198",
   "metadata": {},
   "outputs": [],
   "source": [
    "getiref  , m pdf"
   ]
  }
 ],
 "metadata": {
  "kernelspec": {
   "display_name": "Stata (nbstata)",
   "language": "stata",
   "name": "nbstata"
  },
  "language_info": {
   "file_extension": ".do",
   "mimetype": "text/x-stata",
   "name": "stata",
   "version": "17"
  }
 },
 "nbformat": 4,
 "nbformat_minor": 5
}
